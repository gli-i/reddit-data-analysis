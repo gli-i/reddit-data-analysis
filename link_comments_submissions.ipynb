{
 "cells": [
  {
   "cell_type": "code",
   "execution_count": 1,
   "id": "46981298",
   "metadata": {},
   "outputs": [],
   "source": [
    "import pandas as pd"
   ]
  },
  {
   "cell_type": "code",
   "execution_count": 2,
   "id": "af91d331",
   "metadata": {},
   "outputs": [],
   "source": [
    "def add_comment_sentiment_counts(comments_df, submissions_df):\n",
    "#given the comments and submissions dataframes, this function will split up the comments\n",
    "# by their link_id (the submission id) and count the number of positive, neutral and negative comments \n",
    "\n",
    "\n",
    "#sum the number of positive/netural/negative commetns for each unique link_id \n",
    "\n",
    "    comment_counts_df = comments_df.groupby(\"link_id\").agg(\n",
    "        positive_count=('sentiment', lambda x: (x == 1).sum()),\n",
    "        negative_count=('sentiment', lambda x: (x == -1).sum()),\n",
    "        neutral_count=('sentiment', lambda x: (x == 0).sum())\n",
    "    ).reset_index()\n",
    "    \n",
    "#remove  the \"t3_\" from link_id in the comments_df\n",
    "    comments_df['link_id'] = comments_df['link_id'].str.replace('t3_', '', regex=False)\n",
    "    \n",
    "#rename \"link_id\" to \"id\" in comment_counts_df so we can merge the dataframes on \"id\"\n",
    "\n",
    "    comment_counts_df.rename(columns={\"link_id\": \"id\"}, inplace=True)\n",
    "    \n",
    "#merge the dataframes on \"id\"\n",
    "    result_df = submissions_df.merge(comment_counts_df, on=\"id\", how=\"left\")\n",
    "    \n",
    "\n",
    "    result_df.fillna({'positive_count': 0, 'negative_count': 0, 'neutral_count': 0}, inplace=True)\n",
    "    \n",
    "    return result_df\n"
   ]
  },
  {
   "cell_type": "code",
   "execution_count": 3,
   "id": "9a615f96",
   "metadata": {},
   "outputs": [],
   "source": [
    "\n",
    "# pivots the sentiment counts into seperate columns for each sentiment fill missing values with 0 \n",
    "def aggregate_sentiment_counts(comments_df):\n",
    "    sentiment_counts = comments_df.groupby(['link_id', 'sentiment']).size().unstack(fill_value=0)\n",
    "    sentiment_counts.columns = ['negative_count', 'neutral_count', 'positive_count'] \n",
    "    sentiment_counts.reset_index(inplace = True)\n",
    "    return sentiment_counts \n"
   ]
  },
  {
   "cell_type": "code",
   "execution_count": 4,
   "id": "dfde883e",
   "metadata": {},
   "outputs": [],
   "source": [
    "#adjust these boundaries as needed \n",
    "\n",
    "def round_sentiment(score):\n",
    "    if score > 0.25:\n",
    "        return 1 \n",
    "    elif score < -0.25:\n",
    "        return -1 \n",
    "    else:\n",
    "        return 0 \n"
   ]
  },
  {
   "cell_type": "code",
   "execution_count": 5,
   "id": "ecf4ec26",
   "metadata": {
    "scrolled": true
   },
   "outputs": [],
   "source": [
    "comments_df = pd.read_csv(\"comments.csv\", lineterminator='\\n')\n",
    "submissions_df = pd.read_csv(\"submissions.csv\", lineterminator='\\n')\n",
    "\n",
    "#round the sentiments to -1, 0 or 1 \n",
    "comments_df['sentiment'] = comments_df['sentiment_nltk'].apply(round_sentiment)\n",
    "\n",
    "#add the comment sentiment counts to the submissions dataframe \n",
    "\n",
    "submissions_df = add_comment_sentiment_counts(comments_df, submissions_df)\n",
    "\n",
    "#group comments by link_id and count the number of each sentiment\n",
    "submissions = aggregate_sentiment_counts(comments_df)\n",
    "\n",
    "#match the column names for merging with submissions_df\n",
    "submissions.rename(columns={'link_id': 'id'}, inplace=True)\n",
    "\n",
    "#join with submissions_df\n",
    "submissions = submissions_df.merge(submissions, on = \"id\", how = \"left\")\n"
   ]
  },
  {
   "cell_type": "code",
   "execution_count": 6,
   "id": "ac6964ec",
   "metadata": {},
   "outputs": [],
   "source": [
    "#drop unnecessary columns added by the merge \n",
    "submissions = submissions.drop(columns=['positive_count_x', 'neutral_count_x', 'negative_count_x'])\n",
    "submissions = submissions.rename(columns={\n",
    "    'positive_count_y': 'positive_comment_count',\n",
    "    'neutral_count_y': 'neutral_comment_count',\n",
    "    'negative_count_y': 'negative_comment_count'\n",
    "}).fillna(0)\n",
    "submissions[['positive_comment_count', 'neutral_comment_count', 'negative_comment_count']]= submissions[['positive_comment_count', 'neutral_comment_count', 'negative_comment_count']].fillna(0)"
   ]
  }
 ],
 "metadata": {
  "kernelspec": {
   "display_name": "Python 3 (ipykernel)",
   "language": "python",
   "name": "python3"
  },
  "language_info": {
   "codemirror_mode": {
    "name": "ipython",
    "version": 3
   },
   "file_extension": ".py",
   "mimetype": "text/x-python",
   "name": "python",
   "nbconvert_exporter": "python",
   "pygments_lexer": "ipython3",
   "version": "3.11.7"
  }
 },
 "nbformat": 4,
 "nbformat_minor": 5
}
