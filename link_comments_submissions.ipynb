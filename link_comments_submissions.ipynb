{
 "cells": [
  {
   "cell_type": "code",
   "execution_count": 8,
   "id": "46981298",
   "metadata": {},
   "outputs": [],
   "source": [
    "import pandas as pd\n",
    "import os"
   ]
  },
  {
   "cell_type": "code",
   "execution_count": 28,
   "id": "af91d331",
   "metadata": {},
   "outputs": [],
   "source": [
    "def add_comment_sentiment_counts(comments_df, submissions_df):\n",
    "#given the comments and submissions dataframes, this function will split up the comments\n",
    "# by their link_id (the submission id) and count the number of positive, neutral and negative comments \n",
    "\n",
    "\n",
    "#sum the number of positive/netural/negative commetns for each unique link_id \n",
    "\n",
    "    comment_counts_df = comments_df.groupby(\"link_id\").agg(\n",
    "        positive_count=('sentiment_rounded', lambda x: (x == 1).sum()),\n",
    "        negative_count=('sentiment_rounded', lambda x: (x == -1).sum()),\n",
    "        neutral_count=('sentiment_rounded', lambda x: (x == 0).sum())\n",
    "    ).reset_index()\n",
    "    \n",
    "#remove  the \"t3_\" from link_id in the comments_df\n",
    "    comments_df['link_id'] = comments_df['link_id'].str.replace('t3_', '', regex=False)\n",
    "    \n",
    "#rename \"link_id\" to \"id\" in comment_counts_df so we can merge the dataframes on \"id\"\n",
    "\n",
    "    comment_counts_df.rename(columns={\"link_id\": \"id\"}, inplace=True)\n",
    "    \n",
    "#merge the dataframes on \"id\"\n",
    "    result_df = submissions_df.merge(comment_counts_df, on=\"id\", how=\"left\")\n",
    "    \n",
    "\n",
    "    result_df.fillna({'positive_count': 0, 'negative_count': 0, 'neutral_count': 0}, inplace=True)\n",
    "    \n",
    "    return result_df\n"
   ]
  },
  {
   "cell_type": "code",
   "execution_count": 29,
   "id": "9a615f96",
   "metadata": {},
   "outputs": [],
   "source": [
    "\n",
    "# pivots the sentiment counts into seperate columns for each sentiment fill missing values with 0 \n",
    "def aggregate_sentiment_counts(comments_df):\n",
    "    sentiment_counts = comments_df.groupby(['link_id', 'sentiment_rounded']).size().unstack(fill_value=0)\n",
    "    sentiment_counts.columns = ['negative_count', 'neutral_count', 'positive_count'] \n",
    "    sentiment_counts.reset_index(inplace = True)\n",
    "    return sentiment_counts \n"
   ]
  },
  {
   "cell_type": "code",
   "execution_count": 30,
   "id": "dfde883e",
   "metadata": {},
   "outputs": [],
   "source": [
    "#adjust these boundaries as needed \n",
    "\n",
    "def round_sentiment(score):\n",
    "    if score > 0.25:\n",
    "        return 1 \n",
    "    elif score < -0.25:\n",
    "        return -1 \n",
    "    else:\n",
    "        return 0 \n",
    "#function to read multiple csv files in a directorty and load them into one single dataframe\n",
    "def load_csv_files(directory):\n",
    "    data_frames = []\n",
    "    for filename in os.listdir(directory):\n",
    "        if filename.endswith(\".csv\"):\n",
    "            file_path = os.path.join(directory, filename)\n",
    "            try:\n",
    "                df = pd.read_csv(file_path, on_bad_lines='skip')  #avoid errors while reading \n",
    "                data_frames.append(df)\n",
    "            except pd.errors.ParserError as e:\n",
    "                print(f\"Error reading {file_path}: {e}\")\n",
    "    return pd.concat(data_frames, ignore_index=True)\n",
    "\n",
    "\n"
   ]
  },
  {
   "cell_type": "code",
   "execution_count": 32,
   "id": "ecf4ec26",
   "metadata": {
    "scrolled": true
   },
   "outputs": [],
   "source": [
    "#comments_df = pd.read_csv(\"../project/cmpt353-project/data/comments.csv\", lineterminator='\\n')\n",
    "#submissions_df = pd.read_csv(\"../project/cmpt353-project/data/submissions.csv\", lineterminator='\\n')\n",
    "submissions_df= load_csv_files('submissions_cleaned')\n",
    "comments_df = load_csv_files('comments_cleaned')\n",
    "\n",
    "#round the sentiments to -1, 0 or 1 \n",
    "\n",
    "comments_df['sentiment_score'] = pd.to_numeric(comments_df['sentiment_score'], errors='coerce')\n",
    "submissions_df['sentiment_score'] = pd.to_numeric(submissions_df['sentiment_score'], errors='coerce')\n",
    "\n",
    "\n",
    "comments_df['sentiment_rounded'] = comments_df['sentiment_score'].apply(round_sentiment)\n",
    "submissions_df['sentiment_rounded'] = submissions_df['sentiment_score'].apply(round_sentiment)\n",
    "#add the comment sentiment counts to the submissions dataframe \n",
    "\n",
    "submissions_df = add_comment_sentiment_counts(comments_df, submissions_df)\n",
    "\n",
    "#group comments by link_id and count the number of each sentiment\n",
    "submissions = aggregate_sentiment_counts(comments_df)\n",
    "\n",
    "#match the column names for merging with submissions_df\n",
    "submissions.rename(columns={'link_id': 'id'}, inplace=True)\n",
    "\n",
    "#join with submissions_df\n",
    "submissions = submissions_df.merge(submissions, on = \"id\", how = \"left\")\n"
   ]
  },
  {
   "cell_type": "code",
   "execution_count": 33,
   "id": "ac6964ec",
   "metadata": {},
   "outputs": [],
   "source": [
    "#drop unnecessary columns added by the merge \n",
    "submissions = submissions.drop(columns=['positive_count_x', 'neutral_count_x', 'negative_count_x'])\n",
    "submissions = submissions.rename(columns={\n",
    "    'positive_count_y': 'positive_comment_count',\n",
    "    'neutral_count_y': 'neutral_comment_count',\n",
    "    'negative_count_y': 'negative_comment_count'\n",
    "}).fillna(0)\n",
    "submissions[['positive_comment_count', 'neutral_comment_count', 'negative_comment_count']]= submissions[['positive_comment_count', 'neutral_comment_count', 'negative_comment_count']].fillna(0)"
   ]
  },
  {
   "cell_type": "code",
   "execution_count": 34,
   "id": "882720d5",
   "metadata": {},
   "outputs": [],
   "source": [
    "#funciont ot add a popularity score column \n",
    "\n",
    "def add_popularity_score(submissions_df):\n",
    "    \n",
    "#the total popularity is the sum of the comments and score \n",
    "\n",
    "\n",
    "    submissions_df['total_popularity'] = submissions_df['num_comments'] + submissions_df['score']\n",
    "    \n",
    "#get the average popularity for each subreddit\n",
    "\n",
    "\n",
    "    subreddit_avg_popularity = submissions_df.groupby('subreddit')['total_popularity'].mean().reset_index()\n",
    "    subreddit_avg_popularity.rename(columns={'total_popularity': 'avg_popularity'}, inplace=True)\n",
    "    \n",
    "#left join to get all the entries from submissions_df that match the avg popularity values \n",
    "\n",
    "    submissions_df = submissions_df.merge(subreddit_avg_popularity, on='subreddit', how='left')\n",
    "    \n",
    "#calculate popularity score for each post: total popularity/ average popularity for that subreddit \n",
    "    submissions_df['popularity_score'] = submissions_df['total_popularity'] / submissions_df['avg_popularity']\n",
    "    \n",
    "#drop the uneeded columns \n",
    "    submissions_df.drop(columns=['total_popularity', 'avg_popularity'], inplace=True)\n",
    "    \n",
    "    return submissions_df\n",
    "\n",
    "def scale_popularity_scores(submissions_df):\n",
    "#used to scale popularity bteween 0 and 1 \n",
    "    min_score = submissions_df['popularity_score'].min()\n",
    "    max_score = submissions_df['popularity_score'].max()\n",
    "    \n",
    "#if all scores all the same, min_score-max_score = 0 and we'd be dividing by 0\n",
    "    if min_score == max_score:\n",
    "        submissions_df['scaled_popularity_score'] = 0.0\n",
    "    else:\n",
    "#if not all scores are the same, thenthe scaled popularity is the (score -min_score)/ (max-min scores)\n",
    "        submissions_df['scaled_popularity_score'] = (\n",
    "            submissions_df['popularity_score'] - min_score\n",
    "        ) / (max_score - min_score)\n",
    "    \n",
    "    return submissions_df\n",
    "\n"
   ]
  },
  {
   "cell_type": "code",
   "execution_count": 37,
   "id": "63acdfce",
   "metadata": {},
   "outputs": [],
   "source": [
    "\n",
    "submissions_df['positive_count']=submissions['positive_comment_count']\n",
    "submissions_df['negative_count']=submissions['negative_comment_count']\n",
    "\n",
    "#save to csv \n",
    "submissions_df.to_csv('submissions_cleaned_linked.csv', index=False)\n",
    "comments_df.to_csv('comments_cleaned_linked.csv', index = False)"
   ]
  },
  {
   "cell_type": "code",
   "execution_count": null,
   "id": "a6b21ccc",
   "metadata": {},
   "outputs": [],
   "source": []
  }
 ],
 "metadata": {
  "kernelspec": {
   "display_name": "Python 3 (ipykernel)",
   "language": "python",
   "name": "python3"
  },
  "language_info": {
   "codemirror_mode": {
    "name": "ipython",
    "version": 3
   },
   "file_extension": ".py",
   "mimetype": "text/x-python",
   "name": "python",
   "nbconvert_exporter": "python",
   "pygments_lexer": "ipython3",
   "version": "3.11.7"
  }
 },
 "nbformat": 4,
 "nbformat_minor": 5
}
