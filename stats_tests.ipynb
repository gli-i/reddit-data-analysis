{
 "cells": [
  {
   "cell_type": "code",
   "execution_count": 1,
   "id": "b02df4cf",
   "metadata": {},
   "outputs": [],
   "source": [
    "import pandas as pd\n",
    "import matplotlib.pyplot as plt\n",
    "import seaborn as sns\n",
    "from statsmodels.stats.multicomp import pairwise_tukeyhsd\n",
    "import scipy.stats as stats\n"
   ]
  },
  {
   "cell_type": "code",
   "execution_count": 2,
   "id": "6eaec3bc",
   "metadata": {},
   "outputs": [],
   "source": [
    "comments_df = pd.read_csv(\"comments.csv\", lineterminator='\\n')\n",
    "submissions_df = pd.read_csv(\"submissions.csv\", lineterminator='\\n')\n"
   ]
  },
  {
   "cell_type": "code",
   "execution_count": 3,
   "id": "4dad1d28",
   "metadata": {},
   "outputs": [
    {
     "name": "stdout",
     "output_type": "stream",
     "text": [
      "Number of positive samples: 22136\n",
      "Number of neutral samples: 58305\n",
      "Number of negative samples: 11990\n",
      "\n",
      "\n",
      "\n",
      "Result of ANOVA test: \n",
      "\n",
      " The p value is: \n",
      "1.774831259377419e-58\n"
     ]
    }
   ],
   "source": [
    "\n",
    "#get the three groups\n",
    "positive_popularity = submissions_df[submissions_df['sentiment'] == 1]['scaled_popularity_score']\n",
    "neutral_popularity = submissions_df[submissions_df['sentiment'] == 0]['scaled_popularity_score']\n",
    "negative_popularity = submissions_df[submissions_df['sentiment'] == -1]['scaled_popularity_score']\n",
    "\n",
    "\n",
    "#we can assume normally distributed data based on teh number of samples here \n",
    "\n",
    "print(\"Number of positive samples:\", positive_popularity.count())\n",
    "print(\"Number of neutral samples:\", neutral_popularity.count())\n",
    "print(\"Number of negative samples:\", negative_popularity.count())\n",
    "\n",
    "print(\"\\n\\n\")\n",
    "\n",
    "print(\"Result of ANOVA test: \\n\\n The p value is: \")\n",
    "\n",
    "print(stats.f_oneway(positive_popularity, neutral_popularity, negative_popularity).pvalue)\n",
    "\n",
    "\n",
    "\n"
   ]
  },
  {
   "cell_type": "code",
   "execution_count": 4,
   "id": "05dfea03",
   "metadata": {},
   "outputs": [
    {
     "name": "stdout",
     "output_type": "stream",
     "text": [
      "Multiple Comparison of Means - Tukey HSD, FWER=0.05\n",
      "===================================================\n",
      "group1 group2 meandiff p-adj  lower   upper  reject\n",
      "---------------------------------------------------\n",
      "    -1      0  -0.0029   0.0 -0.0033 -0.0024   True\n",
      "    -1      1  -0.0015   0.0  -0.002  -0.001   True\n",
      "     0      1   0.0014   0.0  0.0011  0.0018   True\n",
      "---------------------------------------------------\n"
     ]
    }
   ],
   "source": [
    "#since the p value is very small, we can do the tukey test to see which means are different \n",
    "tukey = pairwise_tukeyhsd(submissions_df['scaled_popularity_score'], groups=submissions_df['sentiment'], alpha=0.05)\n",
    "\n",
    "\n",
    "print(tukey)\n",
    "\n",
    "#conclusion: all means are different -> no significant results "
   ]
  },
  {
   "cell_type": "code",
   "execution_count": 5,
   "id": "6bda98df",
   "metadata": {},
   "outputs": [
    {
     "name": "stdout",
     "output_type": "stream",
     "text": [
      "2.723084834479269e-07\n"
     ]
    }
   ],
   "source": [
    "#perform a t-test to see if positive vs negative is significant \n",
    "t_statistic, p_value = stats.ttest_ind(positive_popularity, negative_popularity, equal_var=False)  # Use equal_var=False for Welch's t-test\n",
    "print(p_value)"
   ]
  },
  {
   "cell_type": "code",
   "execution_count": 6,
   "id": "783f6170",
   "metadata": {},
   "outputs": [],
   "source": [
    "#the poplarutiy score based on comments is the sum of the positive and negative comments / total comments,\n",
    "# assuming that neutral comments dont add mcuh to the popularity of the post\n",
    "\n",
    "\n",
    "submissions_df[submissions_df['num_comments'] > 0]\n",
    "\n",
    "submissions_df['comment_based_popularity_score'] = (\n",
    "    submissions_df['positive_count'] + submissions_df['negative_count']\n",
    ") \n",
    "#/ submissions_df['num_comments']\n",
    "\n",
    "\n",
    "#submissions_df['comment_based_popularity_score'].fillna(0, inplace=True)\n",
    "\n"
   ]
  },
  {
   "cell_type": "code",
   "execution_count": 7,
   "id": "ee8024f1",
   "metadata": {},
   "outputs": [
    {
     "name": "stdout",
     "output_type": "stream",
     "text": [
      "Number of positive samples: 22136\n",
      "Number of neutral samples: 58305\n",
      "Number of negative samples: 11990\n",
      "\n",
      "\n",
      "\n",
      "Result of ANOVA test: \n",
      "\n",
      " The p value is: \n",
      "2.0882114867422816e-58\n"
     ]
    }
   ],
   "source": [
    "\n",
    "#get the three groups\n",
    "positive_popularity = submissions_df[submissions_df['sentiment'] == 1]['comment_based_popularity_score']\n",
    "neutral_popularity = submissions_df[submissions_df['sentiment'] == 0]['comment_based_popularity_score']\n",
    "negative_popularity = submissions_df[submissions_df['sentiment'] == -1]['comment_based_popularity_score']\n",
    "\n",
    "#we can assume normally distributed data based on teh number of samples here \n",
    "\n",
    "print(\"Number of positive samples:\", positive_popularity.count())\n",
    "print(\"Number of neutral samples:\", neutral_popularity.count())\n",
    "print(\"Number of negative samples:\", negative_popularity.count())\n",
    "\n",
    "print(\"\\n\\n\")\n",
    "\n",
    "print(\"Result of ANOVA test: \\n\\n The p value is: \")\n",
    "\n",
    "print(stats.f_oneway(positive_popularity, neutral_popularity, negative_popularity).pvalue)\n",
    "#slightly better but not that much better than the popularity score based on the upvotes-downvotes(they are essentially the same)\n",
    "\n",
    "\n"
   ]
  },
  {
   "cell_type": "code",
   "execution_count": null,
   "id": "d09abd08",
   "metadata": {},
   "outputs": [],
   "source": []
  }
 ],
 "metadata": {
  "kernelspec": {
   "display_name": "Python 3 (ipykernel)",
   "language": "python",
   "name": "python3"
  },
  "language_info": {
   "codemirror_mode": {
    "name": "ipython",
    "version": 3
   },
   "file_extension": ".py",
   "mimetype": "text/x-python",
   "name": "python",
   "nbconvert_exporter": "python",
   "pygments_lexer": "ipython3",
   "version": "3.11.7"
  }
 },
 "nbformat": 4,
 "nbformat_minor": 5
}
