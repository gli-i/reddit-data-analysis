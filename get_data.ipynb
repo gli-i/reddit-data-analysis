{
 "cells": [
  {
   "cell_type": "code",
   "execution_count": 44,
   "metadata": {},
   "outputs": [],
   "source": [
    "import os\n",
    "import pandas as pd\n",
    "import gzip\n",
    "import json\n"
   ]
  },
  {
   "cell_type": "code",
   "execution_count": 45,
   "metadata": {},
   "outputs": [],
   "source": [
    "#function to read data in from the compressd files and returns a dataframe holding the data \n",
    "def load_json_files(directory):\n",
    "    data = []\n",
    "    for filename in os.listdir(directory):\n",
    "        if filename.endswith(\".json.gz\"):\n",
    "            with gzip.open(os.path.join(directory, filename), 'rt', encoding='utf-8') as f:\n",
    "                for line in f:\n",
    "                    data.append(json.loads(line))\n",
    "    return pd.DataFrame(data)\n"
   ]
  },
  {
   "cell_type": "code",
   "execution_count": 46,
   "metadata": {},
   "outputs": [
    {
     "name": "stdout",
     "output_type": "stream",
     "text": [
      "                                                     body  score  subreddit  \\\n",
      "0       Ah, thanks! Now I see it too. Totally forgot t...      2  Genealogy   \n",
      "1       This would be \"Exhibit A\" if it was mine and m...      1    Cameras   \n",
      "2                                          It's before :)      1  Genealogy   \n",
      "3       I loved the book. I have been supporting it fr...      3      scala   \n",
      "4                                              Thank you.      1      scala   \n",
      "...                                                   ...    ...        ...   \n",
      "204671  I'm a Scalajs user (for work!) and huge fan of...      1      scala   \n",
      "204672  Have you tried [GeaCron](http://geacron.com/ho...      2       xkcd   \n",
      "204673  You need to switch from PAL to NTSC in the set...      3    Cameras   \n",
      "204674                                                  (      1       xkcd   \n",
      "204675  new Array(2) means you've allocated a new arra...      3      scala   \n",
      "\n",
      "          link_id       id subreddit_id  \n",
      "0             NaN      NaN          NaN  \n",
      "1             NaN      NaN          NaN  \n",
      "2             NaN      NaN          NaN  \n",
      "3             NaN      NaN          NaN  \n",
      "4             NaN      NaN          NaN  \n",
      "...           ...      ...          ...  \n",
      "204671  t3_4iw5h5  d3ub3p0     t5_2qh37  \n",
      "204672  t3_4m10uw  d3ub45h     t5_2qh0z  \n",
      "204673  t3_4mc7yo  d3ubag6     t5_2r7pa  \n",
      "204674  t3_4kxvho  d3ubb3m     t5_2qh0z  \n",
      "204675  t3_4lp88a  d3ubhij     t5_2qh37  \n",
      "\n",
      "[204676 rows x 6 columns]\n",
      "       num_comments  score      id  \\\n",
      "0                 6    1.0  44p3s0   \n",
      "1                 0    1.0  44pcog   \n",
      "2                 0    1.0  44pcsl   \n",
      "3                 0    1.0  44pdw8   \n",
      "4                 8    1.0  44peqd   \n",
      "...             ...    ...     ...   \n",
      "30005             0    NaN     NaN   \n",
      "30006             5    NaN     NaN   \n",
      "30007             0    NaN     NaN   \n",
      "30008            27    NaN     NaN   \n",
      "30009           142    NaN     NaN   \n",
      "\n",
      "                                                selftext  \\\n",
      "0      Hey. So, I wore contact lenses for about 10 ye...   \n",
      "1                                                          \n",
      "2                                                          \n",
      "3                                                          \n",
      "4      Hey guys, I want to purchase a budget camera. ...   \n",
      "...                                                  ...   \n",
      "30005                                                NaN   \n",
      "30006                                                NaN   \n",
      "30007                                                NaN   \n",
      "30008                                                NaN   \n",
      "30009                                                NaN   \n",
      "\n",
      "                                                   title  \n",
      "0          Eye problems, Starburst Lights/stars. Worried  \n",
      "1      Security system installers specialists in - Es...  \n",
      "2                       This week in #Scala (08/02/2016)  \n",
      "3      Saving Spark DataFrames on Amazon S3 got Easie...  \n",
      "4                      What camera? Noob question here..  \n",
      "...                                                  ...  \n",
      "30005                                                NaN  \n",
      "30006                                                NaN  \n",
      "30007                                                NaN  \n",
      "30008                                                NaN  \n",
      "30009                                                NaN  \n",
      "\n",
      "[30010 rows x 5 columns]\n"
     ]
    }
   ],
   "source": [
    "\n",
    "comments_dir = 'reddit-subset/comments'\n",
    "submissions_dir = 'reddit-subset/submissions'\n",
    "\n",
    "comments_df = load_json_files(comments_dir)\n",
    "submissions_df = load_json_files(submissions_dir)\n",
    "\n",
    "\n",
    "#keep the necessary columns\n",
    "comments_df = comments_df[['body', 'score', 'subreddit', 'link_id', 'id', 'subreddit_id']]\n",
    "submissions_df = submissions_df[['num_comments', 'score', 'id', 'selftext', 'title']]\n",
    "\n",
    "\n",
    "print(comments_df)\n",
    "print(submissions_df)\n",
    "\n"
   ]
  },
  {
   "cell_type": "code",
   "execution_count": 47,
   "metadata": {},
   "outputs": [],
   "source": [
    "#keep the necessary columns\n",
    "comments_df = comments_df[['body', 'score', 'subreddit', 'link_id', 'id', 'subreddit_id']]\n",
    "submissions_df = submissions_df[['num_comments', 'score', 'id', 'selftext', 'title']]\n",
    "\n"
   ]
  },
  {
   "cell_type": "code",
   "execution_count": null,
   "metadata": {},
   "outputs": [],
   "source": []
  },
  {
   "cell_type": "code",
   "execution_count": null,
   "metadata": {},
   "outputs": [],
   "source": []
  }
 ],
 "metadata": {
  "kernelspec": {
   "display_name": "Python 3",
   "language": "python",
   "name": "python3"
  },
  "language_info": {
   "codemirror_mode": {
    "name": "ipython",
    "version": 3
   },
   "file_extension": ".py",
   "mimetype": "text/x-python",
   "name": "python",
   "nbconvert_exporter": "python",
   "pygments_lexer": "ipython3",
   "version": "3.11.0"
  }
 },
 "nbformat": 4,
 "nbformat_minor": 2
}
