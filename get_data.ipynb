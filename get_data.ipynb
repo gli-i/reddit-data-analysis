{
 "cells": [
  {
   "cell_type": "code",
   "execution_count": 1,
   "metadata": {},
   "outputs": [],
   "source": [
    "import os\n",
    "import pandas as pd\n",
    "import gzip\n",
    "import json\n"
   ]
  },
  {
   "cell_type": "code",
   "execution_count": 2,
   "metadata": {},
   "outputs": [],
   "source": [
    "\n",
    "#function to read data in from the compressd files and returns a dataframe holding the data \n",
    "def load_json_files(directory):\n",
    "    data = []\n",
    "    for filename in os.listdir(directory):\n",
    "        if filename.endswith(\".json.gz\"):\n",
    "            with gzip.open(os.path.join(directory, filename), 'rt', encoding='utf-8') as f:\n",
    "                for line in f:\n",
    "                    data.append(json.loads(line))\n",
    "    return pd.DataFrame(data)"
   ]
  },
  {
   "cell_type": "code",
   "execution_count": 3,
   "metadata": {},
   "outputs": [
    {
     "name": "stdout",
     "output_type": "stream",
     "text": [
      "comments dataframe:\n",
      "\n",
      "               author                                               body  \\\n",
      "0  maryfamilyresearch  Ah, thanks! Now I see it too. Totally forgot t...   \n",
      "1        veepeedeepee  This would be \"Exhibit A\" if it was mine and m...   \n",
      "2          erbush1988                                     It's before :)   \n",
      "3               zaxme  I loved the book. I have been supporting it fr...   \n",
      "4           paldepind                                         Thank you.   \n",
      "\n",
      "  created_utc  score  subreddit  year  month  \n",
      "0  1476972596      2  Genealogy  2016     10  \n",
      "1  1476972701      1    Cameras  2016     10  \n",
      "2  1476972994      1  Genealogy  2016     10  \n",
      "3  1476973924      3      scala  2016     10  \n",
      "4  1476974589      1      scala  2016     10  \n",
      "submissions dataFrame:\n",
      "\n",
      "   archived                author created_utc  num_comments  subreddit  year  \\\n",
      "0     False             [deleted]  1461302210             7    Cameras  2016   \n",
      "1     False             [deleted]  1461304497             4  Genealogy  2016   \n",
      "2     False              bradjr10  1461306445             3  optometry  2016   \n",
      "3     False  selectsecuritysystem  1461306775             0    Cameras  2016   \n",
      "4     False           Pharaoooooh  1461316276             2    Cameras  2016   \n",
      "\n",
      "   month  \n",
      "0      4  \n",
      "1      4  \n",
      "2      4  \n",
      "3      4  \n",
      "4      4  \n"
     ]
    }
   ],
   "source": [
    "\n",
    "comments_dir = 'reddit-subset/comments'\n",
    "submissions_dir = 'reddit-subset/submissions'\n",
    "\n",
    "\n",
    "comments_df = load_json_files(comments_dir)\n",
    "submissions_df = load_json_files(submissions_dir)\n",
    "\n",
    "#test \n",
    "\n",
    "print(\"comments dataframe:\\n\")\n",
    "print(comments_df.head())\n",
    "\n",
    "print(\"submissions dataFrame:\\n\")\n",
    "print(submissions_df.head())\n"
   ]
  }
 ],
 "metadata": {
  "kernelspec": {
   "display_name": "Python 3",
   "language": "python",
   "name": "python3"
  },
  "language_info": {
   "codemirror_mode": {
    "name": "ipython",
    "version": 3
   },
   "file_extension": ".py",
   "mimetype": "text/x-python",
   "name": "python",
   "nbconvert_exporter": "python",
   "pygments_lexer": "ipython3",
   "version": "3.11.0"
  }
 },
 "nbformat": 4,
 "nbformat_minor": 2
}
