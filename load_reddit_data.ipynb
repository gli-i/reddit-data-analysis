{
 "cells": [
  {
   "cell_type": "code",
   "execution_count": 19,
   "metadata": {},
   "outputs": [],
   "source": [
    "# to be used to load data gotten from get_reddit_data.py\n",
    "\n",
    "import os\n",
    "import pandas as pd\n",
    "import gzip\n",
    "import json\n",
    "from textblob import TextBlob\n",
    "\n",
    "import nltk\n",
    "from nltk.sentiment.vader import SentimentIntensityAnalyzer\n",
    "from nltk.corpus import stopwords\n",
    "from nltk.tokenize import word_tokenize\n",
    "from nltk.stem import WordNetLemmatizer"
   ]
  },
  {
   "cell_type": "code",
   "execution_count": 20,
   "metadata": {},
   "outputs": [],
   "source": [
    "#function to read data in from the compressed files and returns a dataframe holding the data \n",
    "def load_json_files(directory):\n",
    "    data = []\n",
    "    for filename in os.listdir(directory):\n",
    "        if filename.endswith(\".json.gz\"):\n",
    "            with gzip.open(os.path.join(directory, filename), 'rt', encoding='utf-8') as f:\n",
    "                for line in f:\n",
    "                    data.append(json.loads(line))\n",
    "    return pd.DataFrame(data)\n"
   ]
  },
  {
   "cell_type": "code",
   "execution_count": 21,
   "metadata": {},
   "outputs": [],
   "source": [
    "\n",
    "comments_dir = 'reddit-data/comments'\n",
    "submissions_dir = 'reddit-data/submissions'\n",
    "\n",
    "comments_df = load_json_files(comments_dir)\n",
    "submissions_df = load_json_files(submissions_dir)\n",
    "\n",
    "\n",
    "# keep the necessary columns\n",
    "# comments_df = comments_df[['body', 'score', 'subreddit', 'link_id', 'id', 'subreddit_id']]\n",
    "# submissions_df = submissions_df[['num_comments', 'score', 'id', 'selftext', 'title']]\n"
   ]
  },
  {
   "cell_type": "code",
   "execution_count": 22,
   "metadata": {},
   "outputs": [],
   "source": [
    "#some comments dont have a link_id, so we can remove them \n",
    "#since we wont be able to link back to the post on which they commneted \n",
    "    \n",
    "#some submissions also have a null score, title and body which is needed for the sentiment analsysis\n",
    "\n",
    "comments_df = comments_df.dropna(subset=['link_id'])\n",
    "submissions_df = submissions_df.dropna(subset=['score', 'selftext', 'title'])\n"
   ]
  },
  {
   "cell_type": "code",
   "execution_count": 23,
   "metadata": {},
   "outputs": [],
   "source": [
    "def calculate_sentiment(text): #rounds to the nearest number in (-1,0,1)\n",
    "    blob = TextBlob(text)\n",
    "    polarity = blob.sentiment.polarity\n",
    "    # if polarity > 0.5:\n",
    "    #     sentiment = 1\n",
    "    # elif polarity < -0.5:\n",
    "    #     sentiment = -1\n",
    "    # else:\n",
    "    #     sentiment = 0\n",
    "    \n",
    "    # return sentiment\n",
    "    return polarity\n"
   ]
  },
  {
   "cell_type": "code",
   "execution_count": 24,
   "metadata": {},
   "outputs": [
    {
     "name": "stderr",
     "output_type": "stream",
     "text": [
      "[nltk_data] Downloading package stopwords to /home/gli/nltk_data...\n",
      "[nltk_data]   Package stopwords is already up-to-date!\n",
      "[nltk_data] Downloading package vader_lexicon to\n",
      "[nltk_data]     /home/gli/nltk_data...\n",
      "[nltk_data]   Package vader_lexicon is already up-to-date!\n",
      "[nltk_data] Downloading package punkt to /home/gli/nltk_data...\n",
      "[nltk_data]   Package punkt is already up-to-date!\n",
      "[nltk_data] Downloading package wordnet to /home/gli/nltk_data...\n",
      "[nltk_data]   Package wordnet is already up-to-date!\n"
     ]
    }
   ],
   "source": [
    "nltk.download(['stopwords', 'vader_lexicon', 'punkt', 'wordnet'])\n",
    "\n",
    "# initialize NLTK sentiment analyzer\n",
    "analyzer = SentimentIntensityAnalyzer()"
   ]
  },
  {
   "cell_type": "code",
   "execution_count": 25,
   "metadata": {},
   "outputs": [],
   "source": [
    "# create preprocess_text function\n",
    "def preprocess_text(text):\n",
    "    # Tokenize the text\n",
    "    tokens = word_tokenize(text.lower())\n",
    "\n",
    "    # Remove stop words\n",
    "    filtered_tokens = [token for token in tokens if token not in stopwords.words('english')]\n",
    "\n",
    "    # Lemmatize the tokens\n",
    "    lemmatizer = WordNetLemmatizer()\n",
    "    lemmatized_tokens = [lemmatizer.lemmatize(token) for token in filtered_tokens]\n",
    "\n",
    "    # Join the tokens back into a string\n",
    "    processed_text = ' '.join(lemmatized_tokens)\n",
    "\n",
    "    return processed_text"
   ]
  },
  {
   "cell_type": "code",
   "execution_count": 26,
   "metadata": {},
   "outputs": [],
   "source": [
    "# create get_sentiment function\n",
    "def get_nltk_sentiment(text):\n",
    "    scores = analyzer.polarity_scores(text)\n",
    "    return scores['compound']"
   ]
  },
  {
   "cell_type": "code",
   "execution_count": 27,
   "metadata": {},
   "outputs": [],
   "source": [
    "comments_df['body_tokenized'] = comments_df['body'].apply(preprocess_text)\n",
    "submissions_df['body_tokenized'] = (submissions_df['title'] + submissions_df['selftext']).apply(preprocess_text)"
   ]
  },
  {
   "cell_type": "code",
   "execution_count": 28,
   "metadata": {},
   "outputs": [],
   "source": [
    "comments_df = comments_df.copy() #setting with copy warning \n",
    "comments_df.loc[:, 'sentiment'] = comments_df['body'].apply(calculate_sentiment)"
   ]
  },
  {
   "cell_type": "code",
   "execution_count": 29,
   "metadata": {},
   "outputs": [],
   "source": [
    "submissions_df = submissions_df.copy()#setting with copy warning \n",
    "submissions_df.loc[:, 'sentiment'] = (submissions_df['title'] + submissions_df['selftext']).apply(calculate_sentiment)"
   ]
  },
  {
   "cell_type": "code",
   "execution_count": 30,
   "metadata": {},
   "outputs": [],
   "source": [
    "comments_df['sentiment_nltk'] = comments_df['body_tokenized'].apply(get_nltk_sentiment)\n",
    "submissions_df['sentiment_nltk'] = submissions_df['body_tokenized'].apply(get_nltk_sentiment)"
   ]
  },
  {
   "cell_type": "code",
   "execution_count": 31,
   "metadata": {},
   "outputs": [],
   "source": [
    "#save to csv to use in another file \n",
    "comments_df.to_csv(\"comments.csv\", index=False)\n",
    "submissions_df.to_csv(\"submissions.csv\", index=False)"
   ]
  },
  {
   "cell_type": "code",
   "execution_count": null,
   "metadata": {},
   "outputs": [],
   "source": []
  }
 ],
 "metadata": {
  "kernelspec": {
   "display_name": "Python 3 (ipykernel)",
   "language": "python",
   "name": "python3"
  },
  "language_info": {
   "codemirror_mode": {
    "name": "ipython",
    "version": 3
   },
   "file_extension": ".py",
   "mimetype": "text/x-python",
   "name": "python",
   "nbconvert_exporter": "python",
   "pygments_lexer": "ipython3",
   "version": "3.10.12"
  }
 },
 "nbformat": 4,
 "nbformat_minor": 4
}
