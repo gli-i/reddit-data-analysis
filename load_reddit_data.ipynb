{
 "cells": [
  {
   "cell_type": "code",
   "execution_count": 18,
   "metadata": {},
   "outputs": [],
   "source": [
    "# to be used to load data gotten from get_reddit_data.py\n",
    "\n",
    "import os\n",
    "import pandas as pd\n",
    "import gzip\n",
    "import json\n",
    "from textblob import TextBlob"
   ]
  },
  {
   "cell_type": "code",
   "execution_count": 19,
   "metadata": {},
   "outputs": [],
   "source": [
    "#function to read data in from the compressed files and returns a dataframe holding the data \n",
    "def load_json_files(directory):\n",
    "    data = []\n",
    "    for filename in os.listdir(directory):\n",
    "        if filename.endswith(\".json.gz\"):\n",
    "            with gzip.open(os.path.join(directory, filename), 'rt', encoding='utf-8') as f:\n",
    "                for line in f:\n",
    "                    data.append(json.loads(line))\n",
    "    return pd.DataFrame(data)\n"
   ]
  },
  {
   "cell_type": "code",
   "execution_count": 20,
   "metadata": {},
   "outputs": [],
   "source": [
    "\n",
    "comments_dir = 'reddit-data/comments'\n",
    "submissions_dir = 'reddit-data/submissions'\n",
    "\n",
    "comments_df = load_json_files(comments_dir)\n",
    "submissions_df = load_json_files(submissions_dir)\n",
    "\n",
    "\n",
    "# keep the necessary columns\n",
    "# comments_df = comments_df[['body', 'score', 'subreddit', 'link_id', 'id', 'subreddit_id']]\n",
    "# submissions_df = submissions_df[['num_comments', 'score', 'id', 'selftext', 'title']]\n"
   ]
  },
  {
   "cell_type": "code",
   "execution_count": 21,
   "metadata": {},
   "outputs": [],
   "source": [
    "#some comments dont have a link_id, so we can remove them \n",
    "#since we wont be able to link back to the post on which they commneted \n",
    "    \n",
    "#some submissions also have a null score, title and body which is needed for the sentiment analsysis\n",
    "\n",
    "comments_df = comments_df.dropna(subset=['link_id'])\n",
    "submissions_df = submissions_df.dropna(subset=['score', 'selftext', 'title'])\n"
   ]
  },
  {
   "cell_type": "code",
   "execution_count": 22,
   "metadata": {},
   "outputs": [],
   "source": [
    "def calculate_sentiment(text): #rounds to the nearest number in (-1,0,1)\n",
    "    blob = TextBlob(text)\n",
    "    polarity = blob.sentiment.polarity\n",
    "    # if polarity > 0.5:\n",
    "    #     sentiment = 1\n",
    "    # elif polarity < -0.5:\n",
    "    #     sentiment = -1\n",
    "    # else:\n",
    "    #     sentiment = 0\n",
    "    \n",
    "    # return sentiment\n",
    "    return polarity\n"
   ]
  },
  {
   "cell_type": "code",
   "execution_count": 23,
   "metadata": {},
   "outputs": [],
   "source": [
    "comments_df = comments_df.copy() #setting with copy warning \n",
    "comments_df.loc[:, 'sentiment'] = comments_df['body'].apply(calculate_sentiment)"
   ]
  },
  {
   "cell_type": "code",
   "execution_count": 24,
   "metadata": {},
   "outputs": [],
   "source": [
    "submissions_df = submissions_df.copy()#setting with copy warning \n",
    "submissions_df.loc[:, 'sentiment'] = (submissions_df['title'] + submissions_df['selftext']).apply(calculate_sentiment)"
   ]
  },
  {
   "cell_type": "code",
   "execution_count": 25,
   "metadata": {},
   "outputs": [],
   "source": [
    "#save to csv to use in another file \n",
    "comments_df.to_csv(\"comments.csv\", index=False)\n",
    "submissions_df.to_csv(\"submissions.csv\", index=False)"
   ]
  },
  {
   "cell_type": "code",
   "execution_count": null,
   "metadata": {},
   "outputs": [],
   "source": []
  }
 ],
 "metadata": {
  "kernelspec": {
   "display_name": "Python 3 (ipykernel)",
   "language": "python",
   "name": "python3"
  },
  "language_info": {
   "codemirror_mode": {
    "name": "ipython",
    "version": 3
   },
   "file_extension": ".py",
   "mimetype": "text/x-python",
   "name": "python",
   "nbconvert_exporter": "python",
   "pygments_lexer": "ipython3",
   "version": "3.10.12"
  }
 },
 "nbformat": 4,
 "nbformat_minor": 4
}
